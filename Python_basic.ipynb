{
  "nbformat": 4,
  "nbformat_minor": 0,
  "metadata": {
    "colab": {
      "provenance": []
    },
    "kernelspec": {
      "name": "python3",
      "display_name": "Python 3"
    },
    "language_info": {
      "name": "python"
    }
  },
  "cells": [
    {
      "cell_type": "markdown",
      "source": [
        "Q1: What is Python, and why is it popular?\n",
        "Ans:- Python is a high-level, interpreted, general-purpose programming language. It’s popular because it’s easy to learn, has a clean syntax, supports multiple programming styles, works across platforms, and has a vast collection of libraries like NumPy, pandas, Django, and more.\n",
        "\n"
      ],
      "metadata": {
        "id": "UYFnzym3kR1N"
      }
    },
    {
      "cell_type": "markdown",
      "source": [
        "2.What is an interpreter in Python?\n",
        "Ans:- Interpreter in python means Python reads our code line by line and translates it into machine-understandable instructions, which are executed immediately to run the program."
      ],
      "metadata": {
        "id": "O6H7934KpV6j"
      }
    },
    {
      "cell_type": "markdown",
      "source": [
        "Q3: What are pre-defined keywords in Python?\n",
        "Ans:- Pre-defined keywords in Python are reserved words that have a fixed meaning in the language’s syntax and cannot be used as variable or function names. Examples are if, else, while, def, and True.\n",
        "\n"
      ],
      "metadata": {
        "id": "2lNLB3etpwFz"
      }
    },
    {
      "cell_type": "markdown",
      "source": [
        "Q4: Can keywords be used as variable names?\n",
        "Ans:- No, keywords cannot be used as variable names because they are reserved words in Python, used to represent specific instructions in the language’s syntax."
      ],
      "metadata": {
        "id": "c1xstw8VrECh"
      }
    },
    {
      "cell_type": "markdown",
      "source": [
        "Q5: What is mutability in Python?\n",
        "Ans:- Mutability in Python means an object’s contents can be changed in place after it is created."
      ],
      "metadata": {
        "id": "qYYKgjUysQTb"
      }
    },
    {
      "cell_type": "markdown",
      "source": [
        "Q6: Why are lists mutable, but tuples immutable?\n",
        "Ans:- Lists are mutable because they are meant for dynamic data and allow in-place changes, while tuples are immutable because they are meant for fixed, constant data and do not allow changes after creation."
      ],
      "metadata": {
        "id": "x0XBV3Y4t5oj"
      }
    },
    {
      "cell_type": "markdown",
      "source": [
        "Q7: Difference between == and is operators?\n",
        "Ans:- The == operator checks whether two objects have the same value, while the is operator checks whether two variables refer to the same object in memory."
      ],
      "metadata": {
        "id": "x03jmEjAfQHb"
      }
    },
    {
      "cell_type": "markdown",
      "source": [
        " Q8: What are logical operators in Python?\n",
        " Ans:- Logical operators in Python are used to combine or modify Boolean expressions. They include and, or, and not.\n",
        "\n"
      ],
      "metadata": {
        "id": "HYCVxHpfkim5"
      }
    },
    {
      "cell_type": "markdown",
      "source": [
        "Q9: What is type casting in Python?\n",
        "Ans:- Type casting in Python is the process of converting a value from one data type to another, using built-in functions like int(), float(), str(), and bool()."
      ],
      "metadata": {
        "id": "zL44E74Nktvq"
      }
    },
    {
      "cell_type": "markdown",
      "source": [
        "Q10: Difference between implicit and explicit type casting.\n",
        "Ans:- Explicit casting: Programmer converts types manually.\n",
        "\n",
        "Implicit casting: Python automatically converts types during operations to prevent data loss."
      ],
      "metadata": {
        "id": "wpOFhBqYleTi"
      }
    },
    {
      "cell_type": "markdown",
      "source": [
        "Q11: What is the purpose of conditional statements in Python?\n",
        "Ans:- Conditional statements in Python allow a program to execute certain code only when specific conditions are met, enabling decision-making in the program’s flow."
      ],
      "metadata": {
        "id": "aPfx09KtmHKH"
      }
    },
    {
      "cell_type": "markdown",
      "source": [
        "Q12: How does the elif statement work?\n",
        "Ans:- The elif statement in Python checks an additional condition if the previous if or elif conditions were False. Only the first condition that is True is executed."
      ],
      "metadata": {
        "id": "9fmm9NALmq1-"
      }
    },
    {
      "cell_type": "markdown",
      "source": [
        "Q13: Difference between for and while loops.\n",
        "Ans:- For loop → Use when you know how many times to repeat.\n",
        "While loop → Use when you don’t know how many times, just keep going until a condition is False."
      ],
      "metadata": {
        "id": "PwrCSNw-nDO7"
      }
    },
    {
      "cell_type": "markdown",
      "source": [
        "Q14: Describe a scenario where a while loop is more suitable than a for loop.\n",
        "Ans:- A while loop is better when we don’t know beforehand how many times we’ll repeat, such as asking the user to guess a number until they get it right."
      ],
      "metadata": {
        "id": "9E0FAvYFnuES"
      }
    },
    {
      "cell_type": "code",
      "source": [
        "# Q1: Write a Python program to print \"Hello, World!\"\n",
        "print(\"Hello, World!\")"
      ],
      "metadata": {
        "colab": {
          "base_uri": "https://localhost:8080/"
        },
        "id": "1zL00aDRoOPy",
        "outputId": "821e3704-0483-4d2d-faae-612db12811d2"
      },
      "execution_count": 1,
      "outputs": [
        {
          "output_type": "stream",
          "name": "stdout",
          "text": [
            "Hello, World!\n"
          ]
        }
      ]
    },
    {
      "cell_type": "code",
      "source": [
        "# Q2: Write a Python program that displays your name and age.\n",
        "name = \"Radha\"\n",
        "age = 20\n",
        "print(\"Name:\", name)\n",
        "print(\"Age:\", age)\n"
      ],
      "metadata": {
        "colab": {
          "base_uri": "https://localhost:8080/"
        },
        "id": "nwLHHuDuoyyE",
        "outputId": "4c4d7c89-ef8a-40c5-cdae-8a3cd5877b98"
      },
      "execution_count": 2,
      "outputs": [
        {
          "output_type": "stream",
          "name": "stdout",
          "text": [
            "Name: Radha\n",
            "Age: 20\n"
          ]
        }
      ]
    },
    {
      "cell_type": "code",
      "source": [
        "# Q3: Write code to print all the pre-defined keywords in Python using the keyword library.\n",
        "import keyword\n",
        "print(keyword.kwlist)\n"
      ],
      "metadata": {
        "colab": {
          "base_uri": "https://localhost:8080/"
        },
        "id": "pN5LrLmFpS55",
        "outputId": "09da86dd-b405-4153-b023-970f6b2fab55"
      },
      "execution_count": 3,
      "outputs": [
        {
          "output_type": "stream",
          "name": "stdout",
          "text": [
            "['False', 'None', 'True', 'and', 'as', 'assert', 'async', 'await', 'break', 'class', 'continue', 'def', 'del', 'elif', 'else', 'except', 'finally', 'for', 'from', 'global', 'if', 'import', 'in', 'is', 'lambda', 'nonlocal', 'not', 'or', 'pass', 'raise', 'return', 'try', 'while', 'with', 'yield']\n"
          ]
        }
      ]
    },
    {
      "cell_type": "code",
      "source": [
        "# Q4: Write a program that checks if a given word is a Python keyword.\n",
        "import keyword\n",
        "\n",
        "word = input(\"Enter a word: \")\n",
        "\n",
        "if keyword.iskeyword(word):\n",
        "    print(f\"{word} is a Python keyword.\")\n",
        "else:\n",
        "    print(f\"{word} is NOT a Python keyword.\")\n",
        "\n"
      ],
      "metadata": {
        "colab": {
          "base_uri": "https://localhost:8080/"
        },
        "id": "aaAF2ACsp9Dy",
        "outputId": "10512950-65f1-4a38-9056-a7a591994589"
      },
      "execution_count": 8,
      "outputs": [
        {
          "output_type": "stream",
          "name": "stdout",
          "text": [
            "Enter a word: while\n",
            "while is a Python keyword.\n"
          ]
        }
      ]
    },
    {
      "cell_type": "code",
      "source": [
        " \"\"\"Q5:  Create a list and tuple in Python, and demonstrate how attempting to change an element works differently\n",
        "for each\"\"\"\n",
        "\n",
        "my_list = [10, 20, 30]\n",
        "print(f\"Original list: {my_list}\")\n",
        "\n",
        "\n",
        "my_list[1] = 25\n",
        "print(f\"Modified list: {my_list}\") # This works!\n",
        "\n",
        "\n",
        "my_tuple = (10, 20, 30)\n",
        "print(f\"\\nOriginal tuple: {my_tuple}\")\n",
        "\n",
        "    my_tuple[1] = 25\n",
        "except TypeError as e:\n",
        "    print(f\"Error attempting to modify tuple: {e}\") # This will fail!"
      ],
      "metadata": {
        "colab": {
          "base_uri": "https://localhost:8080/",
          "height": 106
        },
        "id": "fWBu3FtCrdvm",
        "outputId": "e93bae96-31a8-4d02-8045-7053d6e149ca"
      },
      "execution_count": 1,
      "outputs": [
        {
          "output_type": "error",
          "ename": "IndentationError",
          "evalue": "unexpected indent (ipython-input-1089448232.py, line 15)",
          "traceback": [
            "\u001b[0;36m  File \u001b[0;32m\"/tmp/ipython-input-1089448232.py\"\u001b[0;36m, line \u001b[0;32m15\u001b[0m\n\u001b[0;31m    my_tuple[1] = 25\u001b[0m\n\u001b[0m    ^\u001b[0m\n\u001b[0;31mIndentationError\u001b[0m\u001b[0;31m:\u001b[0m unexpected indent\n"
          ]
        }
      ]
    },
    {
      "cell_type": "code",
      "source": [
        "# Q6: Write a function to demonstrate the behavior of mutable and immutable arguments\n",
        "# Mutable function:\n",
        "def mutable_func(my_list):\n",
        "    print('Before modification: ', my_list)\n",
        "    my_list.append(100)\n",
        "    print('After append: ',  my_list)\n",
        "    my_list.insert(4, 55) # 4th index, element=55\n",
        "    print('After insertion: ', my_list)\n",
        "    my_list.pop(3)\n",
        "    print('After popping 3 from the list: ', my_list)\n",
        "\n",
        "# Original list\n",
        "number1 = [1,2,3,4]\n",
        "\n",
        "# Passing function:\n",
        "mutable_func(number1)\n",
        "\n",
        "# Immutable argument:\n",
        "def  immutable_func(num):\n",
        "    print('\\n\\nBefore modification: ', num)\n",
        "    num += 10\n",
        "    print('After addition: ', num)\n",
        "\n",
        "# Original integer\n",
        "number2 = 7\n",
        "# Calling the function:\n",
        "immutable_func(number2)\n",
        "# Checking current value of number2 after function call:\n",
        "print('\\nvalue of number2 outside the function: ', number2)\n",
        "# thus int is Immutable"
      ],
      "metadata": {
        "id": "2S25oMUN9Oyn"
      },
      "execution_count": null,
      "outputs": []
    },
    {
      "cell_type": "code",
      "source": [
        "# Q7: Write a program that performs basic arithmetic operations on two user-input numbers.\n",
        "\n",
        "def arithmetic_op(num1, num2):\n",
        "    sum  = num1 + num2\n",
        "    print(f'\\nAfter Adding both numbers we are getting:\\n{num1} + {num2} = ', sum)\n",
        "    minus = num1 - num2\n",
        "    print(f'After Subtracting both numbers we are getting:\\n{num1} - {num2} = ', minus)\n",
        "    multi  = num1 * num2\n",
        "    print(f'After Multiplying both numbers we are getting:\\n{num1} X {num2} = ', multi)\n",
        "    div = num1/num2\n",
        "    print(f'After Dividing botth numbers we are getting:\\n{num1} ÷ {num2} = ', div)\n",
        "\n",
        "\n",
        "\n",
        "int1 = int(input(\"Write one  Number: \"))\n",
        "int2 = int(input(\"Write another  Number: \"))\n",
        "\n",
        "# calling func:\n",
        "arithmetic_op(int1, int2)"
      ],
      "metadata": {
        "id": "i5opQncQ96qt"
      },
      "execution_count": null,
      "outputs": []
    },
    {
      "cell_type": "code",
      "source": [
        "# Q8. Write a program to demonstrate the use of logical operators.\n",
        "age = 25\n",
        "is_student = True\n",
        "\n",
        "# Using 'and' operator\n",
        "if age > 18 and is_student:\n",
        "    print(\"You are an adult student.\")\n",
        "\n",
        "# Using 'or' operator\n",
        "if age < 18 or is_student == False:\n",
        "    print(\"You are either a minor or not a student.\")\n",
        "else:\n",
        "    print(\"You are an adult student.\")\n",
        "\n",
        "# Using 'not' operator\n",
        "is_valid_user = False\n",
        "if not is_valid_user:\n",
        "    print(\"User is not validated.\")\n"
      ],
      "metadata": {
        "id": "_0kTkIvD-Ub_"
      },
      "execution_count": null,
      "outputs": []
    },
    {
      "cell_type": "code",
      "source": [
        "# Q9. Write a Python program to convert user input from string to integer, float, and boolean types.\n",
        "value = input(\"Enter a value: \")\n",
        "\n",
        "print(\"Integer:\", int(value))\n",
        "print(\"Float:\", float(value))\n",
        "print(\"Boolean:\", bool(value))\n"
      ],
      "metadata": {
        "id": "UN0B7jw1-jaP"
      },
      "execution_count": null,
      "outputs": []
    },
    {
      "cell_type": "code",
      "source": [
        "# Q10:  Write code to demonstrate type casting with list elements.\n",
        "my_list = ['1', '2', '3']\n",
        "int_list = [int(x) for x in my_list]\n",
        "print(int_list)  # [1, 2, 3]\n"
      ],
      "metadata": {
        "id": "gx6H6x2y-4Pi"
      },
      "execution_count": null,
      "outputs": []
    },
    {
      "cell_type": "code",
      "source": [
        "# Q11. Write a program that checks if a number is positive, negative, or zero.\n",
        "num = int(input(\"Enter a number: \"))\n",
        "if num > 0:\n",
        "    print(\"Positive\")\n",
        "elif num < 0:\n",
        "    print(\"Negative\")\n",
        "else:\n",
        "    print(\"Zero\")\n"
      ],
      "metadata": {
        "id": "ipVfiWt8_Fdu"
      },
      "execution_count": null,
      "outputs": []
    },
    {
      "cell_type": "code",
      "source": [
        "# Q12. Write a for loop to print numbers from 1 to 10\n",
        "for i in range(1, 11):\n",
        "    print(i)\n"
      ],
      "metadata": {
        "id": "luj-EzBC_VH5"
      },
      "execution_count": null,
      "outputs": []
    },
    {
      "cell_type": "code",
      "source": [
        "# Q13. Write a Python program to find the sum of all even numbers between 1 and 50\n",
        "total = sum(i for i in range(1, 51) if i % 2 == 0)\n",
        "print(\"Sum of even numbers:\", total)\n"
      ],
      "metadata": {
        "id": "-UjBhad-_kfJ"
      },
      "execution_count": null,
      "outputs": []
    },
    {
      "cell_type": "code",
      "source": [
        "# 14. Write a program to reverse a string using a while loop.\n",
        "s = input(\"Enter a string: \")\n",
        "i = len(s) - 1\n",
        "rev = \"\"\n",
        "while i >= 0:\n",
        "    rev += s[i]\n",
        "    i -= 1\n",
        "print(\"Reversed string:\", rev)\n"
      ],
      "metadata": {
        "id": "eVLH0oTF_2wR"
      },
      "execution_count": null,
      "outputs": []
    },
    {
      "cell_type": "code",
      "source": [
        "# Q15. Write a Python program to calculate the factorial of a number provided by the user using a while loop\n",
        "n = int(input(\"Enter a number: \"))\n",
        "fact = 1\n",
        "i = 1\n",
        "while i <= n:\n",
        "    fact *= i\n",
        "    i += 1\n",
        "print(\"Factorial:\", fact)\n"
      ],
      "metadata": {
        "id": "ocmC8w9VAIYS"
      },
      "execution_count": null,
      "outputs": []
    }
  ]
}